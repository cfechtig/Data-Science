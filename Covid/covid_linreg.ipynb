{
 "metadata": {
  "language_info": {
   "codemirror_mode": {
    "name": "ipython",
    "version": 3
   },
   "file_extension": ".py",
   "mimetype": "text/x-python",
   "name": "python",
   "nbconvert_exporter": "python",
   "pygments_lexer": "ipython3",
   "version": "3.8.5"
  },
  "orig_nbformat": 2,
  "kernelspec": {
   "name": "python385jvsc74a57bd0109c97d19a338056cdf4abe9c54b25f1208393da3a14093d2fe719bfd0bdff89",
   "display_name": "Python 3.8.5 64-bit ('base': conda)"
  }
 },
 "nbformat": 4,
 "nbformat_minor": 2,
 "cells": [
  {
   "cell_type": "code",
   "execution_count": 1,
   "metadata": {},
   "outputs": [],
   "source": [
    "import numpy as np\n",
    "import pandas as pd"
   ]
  },
  {
   "cell_type": "code",
   "execution_count": 2,
   "metadata": {},
   "outputs": [
    {
     "output_type": "execute_result",
     "data": {
      "text/plain": [
       "             State/Territory  Total Cases  Confirmed Cases  Probable Cases  \\\n",
       "0                     Alaska      67698.0              0.0             0.0   \n",
       "1                    Alabama     546537.0         419873.0        126664.0   \n",
       "2                   Arkansas     342495.0              0.0             0.0   \n",
       "3             American Samoa          NaN              NaN             NaN   \n",
       "4                    Arizona     884195.0         817536.0         66659.0   \n",
       "..                       ...          ...              ...             ...   \n",
       "56                Washington     440889.0              0.0             0.0   \n",
       "57                 Wisconsin     675448.0         611000.0         64448.0   \n",
       "58             West Virginia     162540.0         127011.0         35529.0   \n",
       "59                   Wyoming      60773.0          51168.0          9605.0   \n",
       "60  United States of America   33207488.0       15284582.0       2469607.0   \n",
       "\n",
       "    Cases in Last 7 Days  Case Rate per 100000  Total Deaths  \\\n",
       "0                  217.0                9254.0         362.0   \n",
       "1                  751.0               11147.0       11218.0   \n",
       "2                 1114.0               11349.0        5849.0   \n",
       "3                    NaN                   NaN           NaN   \n",
       "4                 2745.0               12148.0       17700.0   \n",
       "..                   ...                   ...           ...   \n",
       "56                4214.0                5790.0        5856.0   \n",
       "57                1028.0               11601.0        7965.0   \n",
       "58                 827.0                9070.0        2821.0   \n",
       "59                 467.0               10501.0         720.0   \n",
       "60               93737.0               10002.0      595301.0   \n",
       "\n",
       "    Confirmed Deaths  Probable Deaths  Deaths in Last 7 Days  ...  \\\n",
       "0                NaN              NaN                    0.0  ...   \n",
       "1             8844.0           2374.0                    5.0  ...   \n",
       "2                NaN              NaN                   16.0  ...   \n",
       "3                NaN              NaN                    NaN  ...   \n",
       "4            15752.0           1948.0                   72.0  ...   \n",
       "..               ...              ...                    ...  ...   \n",
       "56               NaN              NaN                   91.0  ...   \n",
       "57            7161.0            804.0                  109.0  ...   \n",
       "58               NaN              NaN                   29.0  ...   \n",
       "59             720.0              0.0                    1.0  ...   \n",
       "60          297802.0          35155.0                 2599.0  ...   \n",
       "\n",
       "    % Positive Last 30 Days  % Positive Last 7 Days  # Tests per 100K  \\\n",
       "0                      < 3%                    < 3%         330735.77   \n",
       "1                    5-7.9%                  5-7.9%          94274.07   \n",
       "2                    3-4.9%                  3-4.9%          91857.29   \n",
       "3                       NaN                     NaN               NaN   \n",
       "4                    5-7.9%                  3-4.9%         107666.32   \n",
       "..                      ...                     ...               ...   \n",
       "56                   3-4.9%                  3-4.9%          77664.89   \n",
       "57                   3-4.9%                    < 3%         163396.12   \n",
       "58                   5-7.9%                  5-7.9%         154915.92   \n",
       "59                   5-7.9%                  5-7.9%         136674.85   \n",
       "60                   3-4.9%                    < 3%         135524.58   \n",
       "\n",
       "   Total # Tests # Tests per 100K Last 7 Days Total # Tests Last 7 Days  \\\n",
       "0      2419481.0                      3623.56                   26508.0   \n",
       "1      4622432.0                       587.86                   28824.0   \n",
       "2      2772073.0                       348.00                   10502.0   \n",
       "3            NaN                          NaN                       NaN   \n",
       "4      7836727.0                       966.52                   70350.0   \n",
       "..           ...                          ...                       ...   \n",
       "56     5914098.0                      1289.79                   98216.0   \n",
       "57     9513631.0                      1145.57                   66700.0   \n",
       "58     2776321.0                      1139.58                   20423.0   \n",
       "59      791018.0                      1064.52                    6161.0   \n",
       "60   449948356.0                      1334.21                 4429635.0   \n",
       "\n",
       "    # Tests per 100K Last 30 Days  Total # Tests Last 30 Days  New Cases  \\\n",
       "0                        19976.76                    146139.0       18.0   \n",
       "1                         3314.85                    162533.0       75.0   \n",
       "2                         1659.42                     50078.0       62.0   \n",
       "3                             NaN                         NaN        NaN   \n",
       "4                         5089.37                    370441.0      374.0   \n",
       "..                            ...                         ...        ...   \n",
       "56                        7535.12                    573791.0      366.0   \n",
       "57                        7179.11                    417999.0      102.0   \n",
       "58                        6947.20                    124504.0      104.0   \n",
       "59                        5234.99                     30298.0       51.0   \n",
       "60                        8122.58                  26967372.0     8462.0   \n",
       "\n",
       "    New Deaths  \n",
       "0          0.0  \n",
       "1          1.0  \n",
       "2          3.0  \n",
       "3          NaN  \n",
       "4          0.0  \n",
       "..         ...  \n",
       "56        20.0  \n",
       "57        11.0  \n",
       "58         8.0  \n",
       "59         0.0  \n",
       "60       439.0  \n",
       "\n",
       "[61 rows x 24 columns]"
      ],
      "text/html": "<div>\n<style scoped>\n    .dataframe tbody tr th:only-of-type {\n        vertical-align: middle;\n    }\n\n    .dataframe tbody tr th {\n        vertical-align: top;\n    }\n\n    .dataframe thead th {\n        text-align: right;\n    }\n</style>\n<table border=\"1\" class=\"dataframe\">\n  <thead>\n    <tr style=\"text-align: right;\">\n      <th></th>\n      <th>State/Territory</th>\n      <th>Total Cases</th>\n      <th>Confirmed Cases</th>\n      <th>Probable Cases</th>\n      <th>Cases in Last 7 Days</th>\n      <th>Case Rate per 100000</th>\n      <th>Total Deaths</th>\n      <th>Confirmed Deaths</th>\n      <th>Probable Deaths</th>\n      <th>Deaths in Last 7 Days</th>\n      <th>...</th>\n      <th>% Positive Last 30 Days</th>\n      <th>% Positive Last 7 Days</th>\n      <th># Tests per 100K</th>\n      <th>Total # Tests</th>\n      <th># Tests per 100K Last 7 Days</th>\n      <th>Total # Tests Last 7 Days</th>\n      <th># Tests per 100K Last 30 Days</th>\n      <th>Total # Tests Last 30 Days</th>\n      <th>New Cases</th>\n      <th>New Deaths</th>\n    </tr>\n  </thead>\n  <tbody>\n    <tr>\n      <th>0</th>\n      <td>Alaska</td>\n      <td>67698.0</td>\n      <td>0.0</td>\n      <td>0.0</td>\n      <td>217.0</td>\n      <td>9254.0</td>\n      <td>362.0</td>\n      <td>NaN</td>\n      <td>NaN</td>\n      <td>0.0</td>\n      <td>...</td>\n      <td>&lt; 3%</td>\n      <td>&lt; 3%</td>\n      <td>330735.77</td>\n      <td>2419481.0</td>\n      <td>3623.56</td>\n      <td>26508.0</td>\n      <td>19976.76</td>\n      <td>146139.0</td>\n      <td>18.0</td>\n      <td>0.0</td>\n    </tr>\n    <tr>\n      <th>1</th>\n      <td>Alabama</td>\n      <td>546537.0</td>\n      <td>419873.0</td>\n      <td>126664.0</td>\n      <td>751.0</td>\n      <td>11147.0</td>\n      <td>11218.0</td>\n      <td>8844.0</td>\n      <td>2374.0</td>\n      <td>5.0</td>\n      <td>...</td>\n      <td>5-7.9%</td>\n      <td>5-7.9%</td>\n      <td>94274.07</td>\n      <td>4622432.0</td>\n      <td>587.86</td>\n      <td>28824.0</td>\n      <td>3314.85</td>\n      <td>162533.0</td>\n      <td>75.0</td>\n      <td>1.0</td>\n    </tr>\n    <tr>\n      <th>2</th>\n      <td>Arkansas</td>\n      <td>342495.0</td>\n      <td>0.0</td>\n      <td>0.0</td>\n      <td>1114.0</td>\n      <td>11349.0</td>\n      <td>5849.0</td>\n      <td>NaN</td>\n      <td>NaN</td>\n      <td>16.0</td>\n      <td>...</td>\n      <td>3-4.9%</td>\n      <td>3-4.9%</td>\n      <td>91857.29</td>\n      <td>2772073.0</td>\n      <td>348.00</td>\n      <td>10502.0</td>\n      <td>1659.42</td>\n      <td>50078.0</td>\n      <td>62.0</td>\n      <td>3.0</td>\n    </tr>\n    <tr>\n      <th>3</th>\n      <td>American Samoa</td>\n      <td>NaN</td>\n      <td>NaN</td>\n      <td>NaN</td>\n      <td>NaN</td>\n      <td>NaN</td>\n      <td>NaN</td>\n      <td>NaN</td>\n      <td>NaN</td>\n      <td>NaN</td>\n      <td>...</td>\n      <td>NaN</td>\n      <td>NaN</td>\n      <td>NaN</td>\n      <td>NaN</td>\n      <td>NaN</td>\n      <td>NaN</td>\n      <td>NaN</td>\n      <td>NaN</td>\n      <td>NaN</td>\n      <td>NaN</td>\n    </tr>\n    <tr>\n      <th>4</th>\n      <td>Arizona</td>\n      <td>884195.0</td>\n      <td>817536.0</td>\n      <td>66659.0</td>\n      <td>2745.0</td>\n      <td>12148.0</td>\n      <td>17700.0</td>\n      <td>15752.0</td>\n      <td>1948.0</td>\n      <td>72.0</td>\n      <td>...</td>\n      <td>5-7.9%</td>\n      <td>3-4.9%</td>\n      <td>107666.32</td>\n      <td>7836727.0</td>\n      <td>966.52</td>\n      <td>70350.0</td>\n      <td>5089.37</td>\n      <td>370441.0</td>\n      <td>374.0</td>\n      <td>0.0</td>\n    </tr>\n    <tr>\n      <th>...</th>\n      <td>...</td>\n      <td>...</td>\n      <td>...</td>\n      <td>...</td>\n      <td>...</td>\n      <td>...</td>\n      <td>...</td>\n      <td>...</td>\n      <td>...</td>\n      <td>...</td>\n      <td>...</td>\n      <td>...</td>\n      <td>...</td>\n      <td>...</td>\n      <td>...</td>\n      <td>...</td>\n      <td>...</td>\n      <td>...</td>\n      <td>...</td>\n      <td>...</td>\n      <td>...</td>\n    </tr>\n    <tr>\n      <th>56</th>\n      <td>Washington</td>\n      <td>440889.0</td>\n      <td>0.0</td>\n      <td>0.0</td>\n      <td>4214.0</td>\n      <td>5790.0</td>\n      <td>5856.0</td>\n      <td>NaN</td>\n      <td>NaN</td>\n      <td>91.0</td>\n      <td>...</td>\n      <td>3-4.9%</td>\n      <td>3-4.9%</td>\n      <td>77664.89</td>\n      <td>5914098.0</td>\n      <td>1289.79</td>\n      <td>98216.0</td>\n      <td>7535.12</td>\n      <td>573791.0</td>\n      <td>366.0</td>\n      <td>20.0</td>\n    </tr>\n    <tr>\n      <th>57</th>\n      <td>Wisconsin</td>\n      <td>675448.0</td>\n      <td>611000.0</td>\n      <td>64448.0</td>\n      <td>1028.0</td>\n      <td>11601.0</td>\n      <td>7965.0</td>\n      <td>7161.0</td>\n      <td>804.0</td>\n      <td>109.0</td>\n      <td>...</td>\n      <td>3-4.9%</td>\n      <td>&lt; 3%</td>\n      <td>163396.12</td>\n      <td>9513631.0</td>\n      <td>1145.57</td>\n      <td>66700.0</td>\n      <td>7179.11</td>\n      <td>417999.0</td>\n      <td>102.0</td>\n      <td>11.0</td>\n    </tr>\n    <tr>\n      <th>58</th>\n      <td>West Virginia</td>\n      <td>162540.0</td>\n      <td>127011.0</td>\n      <td>35529.0</td>\n      <td>827.0</td>\n      <td>9070.0</td>\n      <td>2821.0</td>\n      <td>NaN</td>\n      <td>NaN</td>\n      <td>29.0</td>\n      <td>...</td>\n      <td>5-7.9%</td>\n      <td>5-7.9%</td>\n      <td>154915.92</td>\n      <td>2776321.0</td>\n      <td>1139.58</td>\n      <td>20423.0</td>\n      <td>6947.20</td>\n      <td>124504.0</td>\n      <td>104.0</td>\n      <td>8.0</td>\n    </tr>\n    <tr>\n      <th>59</th>\n      <td>Wyoming</td>\n      <td>60773.0</td>\n      <td>51168.0</td>\n      <td>9605.0</td>\n      <td>467.0</td>\n      <td>10501.0</td>\n      <td>720.0</td>\n      <td>720.0</td>\n      <td>0.0</td>\n      <td>1.0</td>\n      <td>...</td>\n      <td>5-7.9%</td>\n      <td>5-7.9%</td>\n      <td>136674.85</td>\n      <td>791018.0</td>\n      <td>1064.52</td>\n      <td>6161.0</td>\n      <td>5234.99</td>\n      <td>30298.0</td>\n      <td>51.0</td>\n      <td>0.0</td>\n    </tr>\n    <tr>\n      <th>60</th>\n      <td>United States of America</td>\n      <td>33207488.0</td>\n      <td>15284582.0</td>\n      <td>2469607.0</td>\n      <td>93737.0</td>\n      <td>10002.0</td>\n      <td>595301.0</td>\n      <td>297802.0</td>\n      <td>35155.0</td>\n      <td>2599.0</td>\n      <td>...</td>\n      <td>3-4.9%</td>\n      <td>&lt; 3%</td>\n      <td>135524.58</td>\n      <td>449948356.0</td>\n      <td>1334.21</td>\n      <td>4429635.0</td>\n      <td>8122.58</td>\n      <td>26967372.0</td>\n      <td>8462.0</td>\n      <td>439.0</td>\n    </tr>\n  </tbody>\n</table>\n<p>61 rows × 24 columns</p>\n</div>"
     },
     "metadata": {},
     "execution_count": 2
    }
   ],
   "source": [
    "FILE_PATH = 'united_states_covid19_cases_deaths_and_testing_by_state.csv'\n",
    "covid_rates = pd.read_csv(FILE_PATH)\n",
    "covid_rates"
   ]
  },
  {
   "cell_type": "code",
   "execution_count": 3,
   "metadata": {},
   "outputs": [
    {
     "output_type": "execute_result",
     "data": {
      "text/plain": [
       "Index(['State/Territory', 'Total Cases', 'Confirmed Cases', 'Probable Cases',\n",
       "       'Cases in Last 7 Days', 'Case Rate per 100000', 'Total Deaths',\n",
       "       'Confirmed Deaths', 'Probable Deaths', 'Deaths in Last 7 Days',\n",
       "       'Death Rate per 100000', '7-Day Cases Rate per 100000',\n",
       "       '7-Day Death Rate per 100000', 'Total % Positive',\n",
       "       '% Positive Last 30 Days', '% Positive Last 7 Days', '# Tests per 100K',\n",
       "       'Total # Tests', '# Tests per 100K Last 7 Days',\n",
       "       'Total # Tests Last 7 Days', '# Tests per 100K Last 30 Days',\n",
       "       'Total # Tests Last 30 Days', 'New Cases', 'New Deaths'],\n",
       "      dtype='object')"
      ]
     },
     "metadata": {},
     "execution_count": 3
    }
   ],
   "source": [
    "covid_rates.columns"
   ]
  },
  {
   "cell_type": "code",
   "execution_count": 4,
   "metadata": {},
   "outputs": [
    {
     "output_type": "execute_result",
     "data": {
      "text/plain": [
       "   Rank       State/Territory  Population/sqmi  Population/sqkm  \\\n",
       "0    --  District of Columbia          10588.8           4088.4   \n",
       "1     1            New Jersey           1210.1            467.2   \n",
       "2     1           Puerto Rico           1055.9            407.7   \n",
       "3     2          Rhode Island           1017.1            392.7   \n",
       "4    --           Territories            991.0            382.6   \n",
       "..  ...                   ...              ...              ...   \n",
       "66   46          South Dakota             11.1              4.3   \n",
       "67   47          North Dakota             10.5              4.0   \n",
       "68   48               Montana              7.0              2.7   \n",
       "69   49               Wyoming              6.0              2.3   \n",
       "70   50                Alaska              1.3              0.5   \n",
       "\n",
       "   Geographic region  \n",
       "0               SAtl  \n",
       "1              MdAtl  \n",
       "2              Terr.  \n",
       "3               NEng  \n",
       "4                USA  \n",
       "..               ...  \n",
       "66               WNC  \n",
       "67               WNC  \n",
       "68               Mtn  \n",
       "69               Mtn  \n",
       "70               Pac  \n",
       "\n",
       "[71 rows x 5 columns]"
      ],
      "text/html": "<div>\n<style scoped>\n    .dataframe tbody tr th:only-of-type {\n        vertical-align: middle;\n    }\n\n    .dataframe tbody tr th {\n        vertical-align: top;\n    }\n\n    .dataframe thead th {\n        text-align: right;\n    }\n</style>\n<table border=\"1\" class=\"dataframe\">\n  <thead>\n    <tr style=\"text-align: right;\">\n      <th></th>\n      <th>Rank</th>\n      <th>State/Territory</th>\n      <th>Population/sqmi</th>\n      <th>Population/sqkm</th>\n      <th>Geographic region</th>\n    </tr>\n  </thead>\n  <tbody>\n    <tr>\n      <th>0</th>\n      <td>--</td>\n      <td>District of Columbia</td>\n      <td>10588.8</td>\n      <td>4088.4</td>\n      <td>SAtl</td>\n    </tr>\n    <tr>\n      <th>1</th>\n      <td>1</td>\n      <td>New Jersey</td>\n      <td>1210.1</td>\n      <td>467.2</td>\n      <td>MdAtl</td>\n    </tr>\n    <tr>\n      <th>2</th>\n      <td>1</td>\n      <td>Puerto Rico</td>\n      <td>1055.9</td>\n      <td>407.7</td>\n      <td>Terr.</td>\n    </tr>\n    <tr>\n      <th>3</th>\n      <td>2</td>\n      <td>Rhode Island</td>\n      <td>1017.1</td>\n      <td>392.7</td>\n      <td>NEng</td>\n    </tr>\n    <tr>\n      <th>4</th>\n      <td>--</td>\n      <td>Territories</td>\n      <td>991.0</td>\n      <td>382.6</td>\n      <td>USA</td>\n    </tr>\n    <tr>\n      <th>...</th>\n      <td>...</td>\n      <td>...</td>\n      <td>...</td>\n      <td>...</td>\n      <td>...</td>\n    </tr>\n    <tr>\n      <th>66</th>\n      <td>46</td>\n      <td>South Dakota</td>\n      <td>11.1</td>\n      <td>4.3</td>\n      <td>WNC</td>\n    </tr>\n    <tr>\n      <th>67</th>\n      <td>47</td>\n      <td>North Dakota</td>\n      <td>10.5</td>\n      <td>4.0</td>\n      <td>WNC</td>\n    </tr>\n    <tr>\n      <th>68</th>\n      <td>48</td>\n      <td>Montana</td>\n      <td>7.0</td>\n      <td>2.7</td>\n      <td>Mtn</td>\n    </tr>\n    <tr>\n      <th>69</th>\n      <td>49</td>\n      <td>Wyoming</td>\n      <td>6.0</td>\n      <td>2.3</td>\n      <td>Mtn</td>\n    </tr>\n    <tr>\n      <th>70</th>\n      <td>50</td>\n      <td>Alaska</td>\n      <td>1.3</td>\n      <td>0.5</td>\n      <td>Pac</td>\n    </tr>\n  </tbody>\n</table>\n<p>71 rows × 5 columns</p>\n</div>"
     },
     "metadata": {},
     "execution_count": 4
    }
   ],
   "source": [
    "WIKI_URL = 'https://simple.wikipedia.org/wiki/List_of_U.S._states_by_population_density'\n",
    "population_densities = pd.read_html(WIKI_URL)\n",
    "population_densities = population_densities[1]\n",
    "population_densities.columns = ['Rank', 'State/Territory', 'Population/sqmi', 'Population/sqkm', 'Geographic region']\n",
    "population_densities"
   ]
  },
  {
   "cell_type": "code",
   "execution_count": 5,
   "metadata": {},
   "outputs": [
    {
     "output_type": "execute_result",
     "data": {
      "text/plain": [
       "   State/Territory  Case Rate per 100000  Death Rate per 100000  \\\n",
       "1          Alabama               11147.0                  228.0   \n",
       "4          Arizona               12148.0                  243.0   \n",
       "6         Colorado                9502.0                  115.0   \n",
       "7      Connecticut                9763.0                  231.0   \n",
       "9         Delaware               11211.0                  172.0   \n",
       "12         Georgia               10609.0                  197.0   \n",
       "16           Idaho               10802.0                  117.0   \n",
       "17        Illinois               10934.0                  200.0   \n",
       "18         Indiana               11097.0                  203.0   \n",
       "20        Kentucky               10308.0                  158.0   \n",
       "21       Louisiana               10191.0                  228.0   \n",
       "22   Massachusetts               10275.0                  259.0   \n",
       "23        Maryland                7621.0                  159.0   \n",
       "24           Maine                5083.0                   62.0   \n",
       "25        Michigan                9967.0                  206.0   \n",
       "26       Minnesota               10690.0                  134.0   \n",
       "29     Mississippi               10704.0                  246.0   \n",
       "30         Montana               10515.0                  152.0   \n",
       "31  North Carolina                9592.0                  125.0   \n",
       "35      New Jersey               11462.0                  295.0   \n",
       "40            Ohio                9452.0                  170.0   \n",
       "41        Oklahoma               11473.0                  185.0   \n",
       "42          Oregon                4822.0                   63.0   \n",
       "44     Puerto Rico                4356.0                   78.0   \n",
       "49    South Dakota               14048.0                  228.0   \n",
       "50       Tennessee               12654.0                  182.0   \n",
       "52            Utah               12721.0                   72.0   \n",
       "53        Virginia                7932.0                  131.0   \n",
       "57       Wisconsin               11601.0                  136.0   \n",
       "59         Wyoming               10501.0                  124.0   \n",
       "\n",
       "    Population/sqmi  \n",
       "1              95.4  \n",
       "4              58.3  \n",
       "6              50.8  \n",
       "7             742.6  \n",
       "9             475.1  \n",
       "12            173.7  \n",
       "16             19.5  \n",
       "17            232.0  \n",
       "18            183.4  \n",
       "20            111.3  \n",
       "21            107.1  \n",
       "22            858.0  \n",
       "23            610.8  \n",
       "24             43.1  \n",
       "25            175.0  \n",
       "26             68.1  \n",
       "29             63.7  \n",
       "30              7.0  \n",
       "31            202.6  \n",
       "35           1210.1  \n",
       "40            283.2  \n",
       "41             56.1  \n",
       "42             40.9  \n",
       "44           1055.9  \n",
       "49             11.1  \n",
       "50            157.5  \n",
       "52             35.3  \n",
       "53            209.2  \n",
       "57            106.0  \n",
       "59              6.0  "
      ],
      "text/html": "<div>\n<style scoped>\n    .dataframe tbody tr th:only-of-type {\n        vertical-align: middle;\n    }\n\n    .dataframe tbody tr th {\n        vertical-align: top;\n    }\n\n    .dataframe thead th {\n        text-align: right;\n    }\n</style>\n<table border=\"1\" class=\"dataframe\">\n  <thead>\n    <tr style=\"text-align: right;\">\n      <th></th>\n      <th>State/Territory</th>\n      <th>Case Rate per 100000</th>\n      <th>Death Rate per 100000</th>\n      <th>Population/sqmi</th>\n    </tr>\n  </thead>\n  <tbody>\n    <tr>\n      <th>1</th>\n      <td>Alabama</td>\n      <td>11147.0</td>\n      <td>228.0</td>\n      <td>95.4</td>\n    </tr>\n    <tr>\n      <th>4</th>\n      <td>Arizona</td>\n      <td>12148.0</td>\n      <td>243.0</td>\n      <td>58.3</td>\n    </tr>\n    <tr>\n      <th>6</th>\n      <td>Colorado</td>\n      <td>9502.0</td>\n      <td>115.0</td>\n      <td>50.8</td>\n    </tr>\n    <tr>\n      <th>7</th>\n      <td>Connecticut</td>\n      <td>9763.0</td>\n      <td>231.0</td>\n      <td>742.6</td>\n    </tr>\n    <tr>\n      <th>9</th>\n      <td>Delaware</td>\n      <td>11211.0</td>\n      <td>172.0</td>\n      <td>475.1</td>\n    </tr>\n    <tr>\n      <th>12</th>\n      <td>Georgia</td>\n      <td>10609.0</td>\n      <td>197.0</td>\n      <td>173.7</td>\n    </tr>\n    <tr>\n      <th>16</th>\n      <td>Idaho</td>\n      <td>10802.0</td>\n      <td>117.0</td>\n      <td>19.5</td>\n    </tr>\n    <tr>\n      <th>17</th>\n      <td>Illinois</td>\n      <td>10934.0</td>\n      <td>200.0</td>\n      <td>232.0</td>\n    </tr>\n    <tr>\n      <th>18</th>\n      <td>Indiana</td>\n      <td>11097.0</td>\n      <td>203.0</td>\n      <td>183.4</td>\n    </tr>\n    <tr>\n      <th>20</th>\n      <td>Kentucky</td>\n      <td>10308.0</td>\n      <td>158.0</td>\n      <td>111.3</td>\n    </tr>\n    <tr>\n      <th>21</th>\n      <td>Louisiana</td>\n      <td>10191.0</td>\n      <td>228.0</td>\n      <td>107.1</td>\n    </tr>\n    <tr>\n      <th>22</th>\n      <td>Massachusetts</td>\n      <td>10275.0</td>\n      <td>259.0</td>\n      <td>858.0</td>\n    </tr>\n    <tr>\n      <th>23</th>\n      <td>Maryland</td>\n      <td>7621.0</td>\n      <td>159.0</td>\n      <td>610.8</td>\n    </tr>\n    <tr>\n      <th>24</th>\n      <td>Maine</td>\n      <td>5083.0</td>\n      <td>62.0</td>\n      <td>43.1</td>\n    </tr>\n    <tr>\n      <th>25</th>\n      <td>Michigan</td>\n      <td>9967.0</td>\n      <td>206.0</td>\n      <td>175.0</td>\n    </tr>\n    <tr>\n      <th>26</th>\n      <td>Minnesota</td>\n      <td>10690.0</td>\n      <td>134.0</td>\n      <td>68.1</td>\n    </tr>\n    <tr>\n      <th>29</th>\n      <td>Mississippi</td>\n      <td>10704.0</td>\n      <td>246.0</td>\n      <td>63.7</td>\n    </tr>\n    <tr>\n      <th>30</th>\n      <td>Montana</td>\n      <td>10515.0</td>\n      <td>152.0</td>\n      <td>7.0</td>\n    </tr>\n    <tr>\n      <th>31</th>\n      <td>North Carolina</td>\n      <td>9592.0</td>\n      <td>125.0</td>\n      <td>202.6</td>\n    </tr>\n    <tr>\n      <th>35</th>\n      <td>New Jersey</td>\n      <td>11462.0</td>\n      <td>295.0</td>\n      <td>1210.1</td>\n    </tr>\n    <tr>\n      <th>40</th>\n      <td>Ohio</td>\n      <td>9452.0</td>\n      <td>170.0</td>\n      <td>283.2</td>\n    </tr>\n    <tr>\n      <th>41</th>\n      <td>Oklahoma</td>\n      <td>11473.0</td>\n      <td>185.0</td>\n      <td>56.1</td>\n    </tr>\n    <tr>\n      <th>42</th>\n      <td>Oregon</td>\n      <td>4822.0</td>\n      <td>63.0</td>\n      <td>40.9</td>\n    </tr>\n    <tr>\n      <th>44</th>\n      <td>Puerto Rico</td>\n      <td>4356.0</td>\n      <td>78.0</td>\n      <td>1055.9</td>\n    </tr>\n    <tr>\n      <th>49</th>\n      <td>South Dakota</td>\n      <td>14048.0</td>\n      <td>228.0</td>\n      <td>11.1</td>\n    </tr>\n    <tr>\n      <th>50</th>\n      <td>Tennessee</td>\n      <td>12654.0</td>\n      <td>182.0</td>\n      <td>157.5</td>\n    </tr>\n    <tr>\n      <th>52</th>\n      <td>Utah</td>\n      <td>12721.0</td>\n      <td>72.0</td>\n      <td>35.3</td>\n    </tr>\n    <tr>\n      <th>53</th>\n      <td>Virginia</td>\n      <td>7932.0</td>\n      <td>131.0</td>\n      <td>209.2</td>\n    </tr>\n    <tr>\n      <th>57</th>\n      <td>Wisconsin</td>\n      <td>11601.0</td>\n      <td>136.0</td>\n      <td>106.0</td>\n    </tr>\n    <tr>\n      <th>59</th>\n      <td>Wyoming</td>\n      <td>10501.0</td>\n      <td>124.0</td>\n      <td>6.0</td>\n    </tr>\n  </tbody>\n</table>\n</div>"
     },
     "metadata": {},
     "execution_count": 5
    }
   ],
   "source": [
    "df = covid_rates.merge(population_densities, how='left', on='State/Territory')\n",
    "df = df.dropna()\n",
    "df = df[['State/Territory', 'Case Rate per 100000', 'Death Rate per 100000', 'Population/sqmi']]\n",
    "df"
   ]
  },
  {
   "cell_type": "code",
   "execution_count": null,
   "metadata": {},
   "outputs": [],
   "source": []
  }
 ]
}