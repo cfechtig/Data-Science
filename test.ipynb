{
 "cells": [
  {
   "cell_type": "code",
   "execution_count": 1,
   "metadata": {},
   "outputs": [],
   "source": [
    "import numpy as np"
   ]
  },
  {
   "cell_type": "code",
   "execution_count": 2,
   "metadata": {},
   "outputs": [],
   "source": [
    "def sigmoid(x):\n",
    "    return 1/(1+np.exp(-x))"
   ]
  },
  {
   "cell_type": "code",
   "execution_count": 3,
   "metadata": {},
   "outputs": [],
   "source": [
    "class NeuralNetwork:\n",
    "    def __init__(self, x, y):\n",
    "        self.input      = x\n",
    "        self.weights1   = np.array([-5,-1,-1,-2])\n",
    "        self.weights2   = np.array([-1,-4])\n",
    "        self.y          = y\n",
    "        self.output     = np.zeros(self.y.shape)\n",
    "\n",
    "    def feedforward(self):\n",
    "        self.layer1 = sigmoid(np.dot(self.input, self.weights1))\n",
    "        self.output = sigmoid(np.dot(self.layer1, self.weights2))\n",
    "        return self.output"
   ]
  },
  {
   "cell_type": "code",
   "execution_count": 4,
   "metadata": {},
   "outputs": [
    {
     "name": "stdout",
     "output_type": "stream",
     "text": [
      "[0, 0] 0.0683512091645131\n",
      "[0, 1] 0.35268841698554093\n",
      "[1, 0] 0.26480352941643615\n",
      "[1, 1] 0.5479762297645293\n"
     ]
    }
   ],
   "source": [
    "bias = 0.5; inputs=[[1,0,0],[1,0,1],[1,1,0],[1,1,1]]\n",
    "for x in inputs:\n",
    "    h1 = sigmoid(x[0]*bias + x[1]*-5 + x[2]*-1)\n",
    "    h2 = sigmoid(x[0]*bias + x[1]*-1 + x[2]*-2)\n",
    "    y = sigmoid(h1*-1 + h2*-4 + bias)\n",
    "    print(x[1:],y)"
   ]
  },
  {
   "cell_type": "code",
   "execution_count": 5,
   "metadata": {},
   "outputs": [
    {
     "name": "stdout",
     "output_type": "stream",
     "text": [
      "w0 = 0.10317116694614202\n",
      "w1 = 1.0063423338922841\n",
      "w2 = 0.10951350083842606\n"
     ]
    }
   ],
   "source": [
    "lr = 0.5\n",
    "x = [1,2,3]\n",
    "w = [0.1,1,0.1]\n",
    "y = 1\n",
    "\n",
    "output = sigmoid(x[0]*w[0] + x[1]*w[1] + x[2]*w[2])\n",
    "g0 = -(y-output)*output*(1-output)*x[0]\n",
    "g1 = -(y-output)*output*(1-output)*x[1]\n",
    "g2 = -(y-output)*output*(1-output)*x[2]\n",
    "w0_ = w[0] - lr*g0\n",
    "w1_ = w[1] - lr*g1\n",
    "w2_ = w[2] - lr*g2\n",
    "print(\"w0 =\",w0_)\n",
    "print(\"w1 =\",w1_)\n",
    "print(\"w2 =\",w2_)"
   ]
  },
  {
   "cell_type": "code",
   "execution_count": 11,
   "metadata": {},
   "outputs": [],
   "source": [
    "train_X = np.array([[1,2,4]] * 100)\n",
    "train_y = np.array([[1]] * 75 + [[0]] * 25)\n"
   ]
  },
  {
   "cell_type": "code",
   "execution_count": 15,
   "metadata": {},
   "outputs": [],
   "source": [
    "# create NeuralNetwork class\n",
    "class NeuralNetwork:\n",
    "\n",
    "    # intialize variables in class\n",
    "    def __init__(self, inputs, outputs):\n",
    "        self.inputs  = inputs\n",
    "        self.outputs = outputs\n",
    "        self.weights = np.random.rand(3,1)\n",
    "        self.error_history = []\n",
    "        self.epoch_list = []\n",
    "\n",
    "    #activation function ==> S(x) = 1/1+e^(-x)\n",
    "    def sigmoid(self, x, deriv=False):\n",
    "        if deriv == True:\n",
    "            return x * (1 - x)\n",
    "        return 1 / (1 + np.exp(-x))\n",
    "\n",
    "    # data will flow through the neural network.\n",
    "    def feed_forward(self):\n",
    "        self.hidden = self.sigmoid(np.dot(self.inputs, self.weights))\n",
    "\n",
    "    # going backwards through the network to update weights\n",
    "    def backpropagation(self):\n",
    "        self.error  = self.outputs - self.hidden\n",
    "        delta = self.error * self.sigmoid(self.hidden, deriv=True)\n",
    "        self.weights += np.dot(self.inputs.T, delta)\n",
    "\n",
    "    # train the neural net for 25,000 iterations\n",
    "    def train(self, epochs=25000):\n",
    "        for epoch in range(epochs):\n",
    "            # flow forward and produce an output\n",
    "            self.feed_forward()\n",
    "            # go back though the network to make corrections based on the output\n",
    "            self.backpropagation()    \n",
    "            # keep track of the error history over each epoch\n",
    "            self.error_history.append(np.average(np.abs(self.error)))\n",
    "            self.epoch_list.append(epoch)\n",
    "\n",
    "    # function to predict output on new and unseen input data                               \n",
    "    def predict(self, new_input):\n",
    "        prediction = self.sigmoid(np.dot(new_input, self.weights))\n",
    "        return prediction\n",
    "\n",
    "# create neural network   \n",
    "NN = NeuralNetwork(train_X, train_y)\n",
    "# train neural network\n",
    "NN.train()"
   ]
  },
  {
   "cell_type": "code",
   "execution_count": 18,
   "metadata": {},
   "outputs": [
    {
     "data": {
      "text/plain": [
       "array([[0.99999396]])"
      ]
     },
     "execution_count": 18,
     "metadata": {},
     "output_type": "execute_result"
    }
   ],
   "source": [
    "NN.predict(np.array([[-2,4,-5]]))"
   ]
  },
  {
   "cell_type": "code",
   "execution_count": 9,
   "metadata": {},
   "outputs": [],
   "source": [
    "import matplotlib.pyplot as plt"
   ]
  },
  {
   "cell_type": "code",
   "execution_count": 10,
   "metadata": {},
   "outputs": [
    {
     "data": {
      "image/png": "[encoded data removed]",
      "text/plain": [
       "<Figure size 1080x360 with 1 Axes>"
      ]
     },
     "metadata": {
      "needs_background": "light"
     },
     "output_type": "display_data"
    }
   ],
   "source": [
    "plt.figure(figsize=(15,5))\n",
    "plt.plot(NN.epoch_list, NN.error_history)\n",
    "plt.xlabel('Epoch')\n",
    "plt.ylabel('Error')\n",
    "plt.show()"
   ]
  },
  {
   "cell_type": "code",
   "execution_count": null,
   "metadata": {},
   "outputs": [],
   "source": []
  }
 ],
 "metadata": {
  "interpreter": {
   "hash": "08ec8d607d3a2c1251fee9198890f662b6c0badb692b43596bb5a6c6e8eaf4bf"
  },
  "kernelspec": {
   "display_name": "Python 3.9.4 64-bit ('base': conda)",
   "language": "python",
   "name": "python3"
  },
  "language_info": {
   "codemirror_mode": {
    "name": "ipython",
    "version": 3
   },
   "file_extension": ".py",
   "mimetype": "text/x-python",
   "name": "python",
   "nbconvert_exporter": "python",
   "pygments_lexer": "ipython3",
   "version": "3.9.7"
  },
  "orig_nbformat": 4
 },
 "nbformat": 4,
 "nbformat_minor": 2
}
