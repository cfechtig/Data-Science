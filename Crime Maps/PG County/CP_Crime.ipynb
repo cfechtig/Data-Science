{
 "metadata": {
  "language_info": {
   "codemirror_mode": {
    "name": "ipython",
    "version": 3
   },
   "file_extension": ".py",
   "mimetype": "text/x-python",
   "name": "python",
   "nbconvert_exporter": "python",
   "pygments_lexer": "ipython3",
   "version": "3.8.5"
  },
  "orig_nbformat": 2,
  "kernelspec": {
   "name": "python385jvsc74a57bd0109c97d19a338056cdf4abe9c54b25f1208393da3a14093d2fe719bfd0bdff89",
   "display_name": "Python 3.8.5 64-bit ('base': conda)"
  }
 },
 "nbformat": 4,
 "nbformat_minor": 2,
 "cells": [
  {
   "cell_type": "code",
   "execution_count": 1,
   "metadata": {},
   "outputs": [],
   "source": [
    "import folium\n",
    "import requests\n",
    "import pandas\n",
    "from folium.plugins import HeatMap"
   ]
  },
  {
   "cell_type": "code",
   "execution_count": 2,
   "metadata": {},
   "outputs": [],
   "source": [
    "df = pandas.read_csv('Crime_Incidents_February_2017_to_Present.csv')"
   ]
  },
  {
   "cell_type": "code",
   "execution_count": 3,
   "metadata": {},
   "outputs": [
    {
     "output_type": "stream",
     "name": "stdout",
     "text": [
      "<class 'pandas.core.frame.DataFrame'>\nRangeIndex: 98160 entries, 0 to 98159\nData columns (total 11 columns):\n #   Column                   Non-Null Count  Dtype  \n---  ------                   --------------  -----  \n 0   Incident_case_id         98160 non-null  object \n 1   Date                     98160 non-null  object \n 2   Clearance_code_inc_type  98160 non-null  object \n 3   PGPD Reporting Area      98160 non-null  int64  \n 4   PGPD Sector              98159 non-null  object \n 5   PGPD Beat                98158 non-null  object \n 6   Street_Number            75906 non-null  object \n 7   Street_Address           98160 non-null  object \n 8   Latitude                 98160 non-null  float64\n 9   Longitude                98160 non-null  float64\n 10  Location                 98160 non-null  object \ndtypes: float64(2), int64(1), object(8)\nmemory usage: 8.2+ MB\n"
     ]
    }
   ],
   "source": [
    "df.info()"
   ]
  },
  {
   "cell_type": "code",
   "execution_count": 4,
   "metadata": {},
   "outputs": [
    {
     "output_type": "execute_result",
     "data": {
      "text/plain": [
       "   Incident_case_id        Date Clearance_code_inc_type  PGPD Reporting Area  \\\n",
       "0  PP20050900000816  05/09/2020         THEFT FROM AUTO                  504   \n",
       "1  PP17082200000593  08/22/2017         THEFT FROM AUTO                  709   \n",
       "2  PP19090100001543  09/01/2019   ACCIDENT WITH IMPOUND                  710   \n",
       "3  PP17062000002184  06/20/2017                ACCIDENT                  514   \n",
       "4  PP19081200001812  08/12/2019         THEFT FROM AUTO                  111   \n",
       "\n",
       "  PGPD Sector PGPD Beat Street_Number               Street_Address   Latitude  \\\n",
       "0         TRU        K1           NaN  23RD PKY SB / IVERSON ST WB  38.832853   \n",
       "1           E        E4    2100 BLOCK         2143 ROBERT BOWIE DR  38.862053   \n",
       "2           E        E5    1300 BLOCK       1305 WHISTLING DUCK DR  38.872223   \n",
       "3           J        J1    4900 BLOCK      4950 INDIAN HEAD HWY NB  38.820386   \n",
       "4           A        A6           NaN        25TH AVE / KIRSTON ST  38.986724   \n",
       "\n",
       "   Longitude                              Location   \n",
       "0 -76.960127  (38.8328533917665, -76.9601267725229)  \n",
       "1 -76.794117  (38.8620528131723, -76.7941166162491)  \n",
       "2 -76.770167  (38.8722233921289, -76.7701665312052)  \n",
       "3 -76.999825  (38.8203862309456, -76.9998248666525)  \n",
       "4 -76.967345  (38.9867244809866, -76.9673446118832)  "
      ],
      "text/html": "<div>\n<style scoped>\n    .dataframe tbody tr th:only-of-type {\n        vertical-align: middle;\n    }\n\n    .dataframe tbody tr th {\n        vertical-align: top;\n    }\n\n    .dataframe thead th {\n        text-align: right;\n    }\n</style>\n<table border=\"1\" class=\"dataframe\">\n  <thead>\n    <tr style=\"text-align: right;\">\n      <th></th>\n      <th>Incident_case_id</th>\n      <th>Date</th>\n      <th>Clearance_code_inc_type</th>\n      <th>PGPD Reporting Area</th>\n      <th>PGPD Sector</th>\n      <th>PGPD Beat</th>\n      <th>Street_Number</th>\n      <th>Street_Address</th>\n      <th>Latitude</th>\n      <th>Longitude</th>\n      <th>Location</th>\n    </tr>\n  </thead>\n  <tbody>\n    <tr>\n      <th>0</th>\n      <td>PP20050900000816</td>\n      <td>05/09/2020</td>\n      <td>THEFT FROM AUTO</td>\n      <td>504</td>\n      <td>TRU</td>\n      <td>K1</td>\n      <td>NaN</td>\n      <td>23RD PKY SB / IVERSON ST WB</td>\n      <td>38.832853</td>\n      <td>-76.960127</td>\n      <td>(38.8328533917665, -76.9601267725229)</td>\n    </tr>\n    <tr>\n      <th>1</th>\n      <td>PP17082200000593</td>\n      <td>08/22/2017</td>\n      <td>THEFT FROM AUTO</td>\n      <td>709</td>\n      <td>E</td>\n      <td>E4</td>\n      <td>2100 BLOCK</td>\n      <td>2143 ROBERT BOWIE DR</td>\n      <td>38.862053</td>\n      <td>-76.794117</td>\n      <td>(38.8620528131723, -76.7941166162491)</td>\n    </tr>\n    <tr>\n      <th>2</th>\n      <td>PP19090100001543</td>\n      <td>09/01/2019</td>\n      <td>ACCIDENT WITH IMPOUND</td>\n      <td>710</td>\n      <td>E</td>\n      <td>E5</td>\n      <td>1300 BLOCK</td>\n      <td>1305 WHISTLING DUCK DR</td>\n      <td>38.872223</td>\n      <td>-76.770167</td>\n      <td>(38.8722233921289, -76.7701665312052)</td>\n    </tr>\n    <tr>\n      <th>3</th>\n      <td>PP17062000002184</td>\n      <td>06/20/2017</td>\n      <td>ACCIDENT</td>\n      <td>514</td>\n      <td>J</td>\n      <td>J1</td>\n      <td>4900 BLOCK</td>\n      <td>4950 INDIAN HEAD HWY NB</td>\n      <td>38.820386</td>\n      <td>-76.999825</td>\n      <td>(38.8203862309456, -76.9998248666525)</td>\n    </tr>\n    <tr>\n      <th>4</th>\n      <td>PP19081200001812</td>\n      <td>08/12/2019</td>\n      <td>THEFT FROM AUTO</td>\n      <td>111</td>\n      <td>A</td>\n      <td>A6</td>\n      <td>NaN</td>\n      <td>25TH AVE / KIRSTON ST</td>\n      <td>38.986724</td>\n      <td>-76.967345</td>\n      <td>(38.9867244809866, -76.9673446118832)</td>\n    </tr>\n  </tbody>\n</table>\n</div>"
     },
     "metadata": {},
     "execution_count": 4
    }
   ],
   "source": [
    "df.head()"
   ]
  },
  {
   "cell_type": "code",
   "execution_count": 5,
   "metadata": {},
   "outputs": [],
   "source": [
    "# df = df[['Incident_case_id','Date','Clearance_code_inc_type','PGPD Reporting Area','PGPD Sector','PGPD Beat','Street_Number','Street_Address','Latitude','Longitude']]\n",
    "# df.head()"
   ]
  },
  {
   "source": [
    "## Map 1 - Color Coded Crime"
   ],
   "cell_type": "markdown",
   "metadata": {}
  },
  {
   "cell_type": "code",
   "execution_count": 8,
   "metadata": {},
   "outputs": [
    {
     "output_type": "execute_result",
     "data": {
      "text/plain": [
       "['ACCIDENT',\n",
       " 'ACCIDENT WITH IMPOUND',\n",
       " 'ASSAULT',\n",
       " 'ASSAULT, SHOOTING',\n",
       " 'ASSAULT, WEAPON',\n",
       " 'AUTO, STOLEN',\n",
       " 'AUTO, STOLEN & RECOVERED',\n",
       " 'B & E, COMMERCIAL',\n",
       " 'B & E, OTHER',\n",
       " 'B & E, RESIDENTIAL',\n",
       " 'B & E, RESIDENTIAL (VACANT)',\n",
       " 'B & E, SCHOOL',\n",
       " 'B & E, VACANT',\n",
       " 'HOMICIDE',\n",
       " 'ROBBERY, COMMERCIAL',\n",
       " 'ROBBERY, OTHER',\n",
       " 'ROBBERY, RESIDENTIAL',\n",
       " 'ROBBERY, VEHICLE',\n",
       " 'SEX OFFENSE',\n",
       " 'THEFT',\n",
       " 'THEFT FROM AUTO',\n",
       " 'VANDALISM']"
      ]
     },
     "metadata": {},
     "execution_count": 8
    }
   ],
   "source": [
    "# getting a look at the different crimes codes\n",
    "crimes = sorted(df['Clearance_code_inc_type'].unique())\n",
    "crimes"
   ]
  },
  {
   "cell_type": "code",
   "execution_count": 23,
   "metadata": {},
   "outputs": [
    {
     "output_type": "execute_result",
     "data": {
      "text/plain": [
       "{'ACCIDENT',\n",
       " 'ACCIDENT WITH IMPOUND',\n",
       " 'ASSAULT',\n",
       " 'AUTO',\n",
       " 'B & E',\n",
       " 'HOMICIDE',\n",
       " 'ROBBERY',\n",
       " 'SEX OFFENSE',\n",
       " 'THEFT',\n",
       " 'THEFT FROM AUTO',\n",
       " 'VANDALISM'}"
      ]
     },
     "metadata": {},
     "execution_count": 23
    }
   ],
   "source": [
    "crime_cat = set([y[0] for y in [x.split(', ') for x in crimes]])\n",
    "\n",
    "# df[Crime Label] = df.apply(lambda row: rox['Clearance_code_inc_type'])"
   ]
  },
  {
   "source": [
    "data = df[df['Clearance_code_inc_type']=='B & E, RESIDENTIAL']\n",
    "\n",
    "m = folium.Map(location=[38.986, -76.94], zoom_start=14)\n",
    "\n",
    "HeatMap(\n",
    "    data=data[['Latitude', 'Longitude']],\n",
    "    radius=15,\n",
    ").add_to(m)\n",
    "\n",
    "m"
   ],
   "cell_type": "code",
   "metadata": {},
   "execution_count": null,
   "outputs": []
  },
  {
   "source": [
    "data = df[df['Clearance_code_inc_type']=='B & E, RESIDENTIAL']\n",
    "\n",
    "m = folium.Map(location=[38.986, -76.94], zoom_start=14)\n",
    "\n",
    "HeatMap(\n",
    "    data=data[['Latitude', 'Longitude']],\n",
    "    radius=15,\n",
    ").add_to(m)\n",
    "\n",
    "m"
   ],
   "cell_type": "code",
   "metadata": {},
   "execution_count": null,
   "outputs": []
  },
  {
   "cell_type": "code",
   "execution_count": null,
   "metadata": {},
   "outputs": [],
   "source": []
  }
 ]
}