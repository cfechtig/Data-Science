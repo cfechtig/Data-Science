{
 "cells": [
  {
   "cell_type": "code",
   "execution_count": 1,
   "metadata": {},
   "outputs": [],
   "source": [
    "import numpy as np\n",
    "from sklearn.linear_model import LogisticRegression\n",
    "import matplotlib.pyplot as plt # to plot error during training"
   ]
  },
  {
   "cell_type": "code",
   "execution_count": 325,
   "metadata": {},
   "outputs": [
    {
     "data": {
      "text/plain": [
       "0.9168273035060777"
      ]
     },
     "execution_count": 325,
     "metadata": {},
     "output_type": "execute_result"
    }
   ],
   "source": [
    "def sigmoid(x):\n",
    "    return 1/(1+np.exp(-x))\n",
    "\n",
    "x = np.array([1,2,3])\n",
    "w = np.array([0.1,1,0.1])\n",
    "sigmoid(np.dot(x,w))\n",
    "\n"
   ]
  },
  {
   "cell_type": "code",
   "execution_count": 161,
   "metadata": {},
   "outputs": [],
   "source": [
    "class NeuralNetwork:\n",
    "    def __init__(self, inputSize=3, outputSize=1, hiddenSize=2):\n",
    "        self.inputSize = inputSize\n",
    "        self.outputSize = outputSize\n",
    "        self.hiddenSize = hiddenSize\n",
    "        self.W1 = np.random.rand(self.inputSize, self.hiddenSize)\n",
    "        self.W2 = np.random.rand(self.hiddenSize, self.outputSize)\n",
    "\n",
    "    def sigmoid(self, x, deriv=False):\n",
    "        if deriv == True:\n",
    "            return x * (1 - x)\n",
    "        return 1 / (1 + np.exp(-x))\n",
    "\n",
    "    def forward(self, X):\n",
    "        self.z = np.matmul(X, self.W1)\n",
    "        self.z2 = self.sigmoid(self.z)\n",
    "        self.z3 = np.matmul(self.z2, self.W2)\n",
    "        o = self.sigmoid(self.z3)\n",
    "        return o\n",
    "\n",
    "    def backward(self, X, y, o):\n",
    "        self.o_error = y - o\n",
    "        self.o_delta = self.o_error * self.sigmoid(o, True)\n",
    "        self.z2_error = np.matmul(self.o_delta, np.matrix.transpose(self.W2))\n",
    "        self.z2_delta = self.z2_error * self.sigmoid(self.z2, True)\n",
    "        self.W1 += np.matmul(np.matrix.transpose(X), self.z2_delta)\n",
    "        self.W2 += np.matmul(np.matrix.transpose(self.z2), self.o_delta)\n",
    "\n",
    "    def train(self, X, y, epochs=10000):\n",
    "        for epoch in range(epochs):\n",
    "            o = self.forward(X)\n",
    "            self.backward(X, y, o)\n",
    "\n",
    "    def predict(self, x_predicted):\n",
    "        return self.forward(x_predicted).item()"
   ]
  },
  {
   "cell_type": "code",
   "execution_count": 354,
   "metadata": {},
   "outputs": [
    {
     "data": {
      "text/plain": [
       "0.7499999999999992"
      ]
     },
     "execution_count": 354,
     "metadata": {},
     "output_type": "execute_result"
    }
   ],
   "source": [
    "# input data\n",
    "inputs = np.array([np.random.rand(3).tolist()] * 100)\n",
    "# output data\n",
    "outputs = np.array([[1]] * 75 + [[0]] * 25)\n",
    "\n",
    "NN = NeuralNetwork()\n",
    "NN.train(inputs, outputs)\n",
    "NN.predict(inputs[0])"
   ]
  },
  {
   "cell_type": "code",
   "execution_count": 365,
   "metadata": {},
   "outputs": [
    {
     "data": {
      "text/plain": [
       "array([[0.75000006, 0.24999994]])"
      ]
     },
     "execution_count": 365,
     "metadata": {},
     "output_type": "execute_result"
    }
   ],
   "source": [
    "# input data\n",
    "inputs = np.array([np.random.rand(3).tolist()] * 100)\n",
    "# output data\n",
    "outputs = np.array([[0]] * 75 + [[1]] * 25)\n",
    "\n",
    "clf = LogisticRegression().fit(inputs, outputs.ravel())\n",
    "clf.predict_proba([np.random.rand(3)])"
   ]
  },
  {
   "cell_type": "code",
   "execution_count": 5,
   "metadata": {},
   "outputs": [],
   "source": [
    "import requests\n",
    "from bs4 import BeautifulSoup\n",
    "import time"
   ]
  },
  {
   "cell_type": "code",
   "execution_count": 2,
   "metadata": {},
   "outputs": [],
   "source": [
    "def getWikiLinks(page):\n",
    "    response = requests.get(\n",
    "        url=\"https://en.wikipedia.org/wiki/\" + page,\n",
    "    )\n",
    "    soup = BeautifulSoup(response.content, 'html.parser')\n",
    "\n",
    "    # Get all the links\n",
    "    allLinks = soup.find(id=\"bodyContent\").find_all(\"a\")\n",
    "    wikiLinks = []\n",
    "\n",
    "    for link in allLinks:\n",
    "        if (link.has_attr(\"href\") and \n",
    "            link[\"href\"].find(\"/wiki/\") != -1 and \n",
    "            not link.has_attr(\"class\")):\n",
    "            \n",
    "            wikiLinks.append(link[\"title\"])\n",
    "\n",
    "    return wikiLinks"
   ]
  },
  {
   "cell_type": "code",
   "execution_count": 6,
   "metadata": {},
   "outputs": [
    {
     "name": "stdout",
     "output_type": "stream",
     "text": [
      "0 Texas_annexation\n",
      "\n",
      "0.11857008934020996\n",
      "20 Gerard_Manley_Hopkins\n",
      "\n",
      "3.1813228130340576\n",
      "40 Anemia\n",
      "\n",
      "3.469252109527588\n",
      "60 Pedro_II_of_Brazil\n",
      "\n",
      "2.6918060779571533\n",
      "80 Density\n",
      "\n",
      "2.8585779666900635\n",
      "100 Mrs_Dalloway\n",
      "\n",
      "3.49611496925354\n",
      "120 Ossification\n",
      "\n",
      "2.675758123397827\n",
      "Mikhail_Bulgakov\n",
      "\n",
      "140 Daniel_Kahneman\n",
      "\n",
      "2.5574278831481934\n",
      "160 Druze\n",
      "\n",
      "2.109994888305664\n",
      "180 French_horn\n",
      "\n",
      "3.465520143508911\n",
      "200 Mali_Empire\n",
      "\n",
      "2.5991508960723877\n",
      "Indian_National_Congress\n",
      "\n",
      "220 Jim_(given_name)\n",
      "\n",
      "2.514065980911255\n"
     ]
    }
   ],
   "source": [
    "times = []\n",
    "\n",
    "with open('vocab_dev.txt', 'r') as vocab:\n",
    "    limit = -1\n",
    "    i = 0\n",
    "    temp_time = time.time()\n",
    "    for page in vocab:\n",
    "        try:\n",
    "            getWikiLinks(page.strip())\n",
    "            if(i%20 == 0):\n",
    "                ts = time.time() - temp_time\n",
    "                times.append(ts)\n",
    "                temp_time = time.time()\n",
    "                print(i, page.strip(), ts)\n",
    "        except:\n",
    "            print(page)\n",
    "\n",
    "        i += 1\n",
    "        if i >= limit and limit > 0:\n",
    "            break"
   ]
  },
  {
   "cell_type": "code",
   "execution_count": null,
   "metadata": {},
   "outputs": [],
   "source": []
  }
 ],
 "metadata": {
  "interpreter": {
   "hash": "08ec8d607d3a2c1251fee9198890f662b6c0badb692b43596bb5a6c6e8eaf4bf"
  },
  "kernelspec": {
   "display_name": "Python 3.9.4 64-bit ('base': conda)",
   "language": "python",
   "name": "python3"
  },
  "language_info": {
   "codemirror_mode": {
    "name": "ipython",
    "version": 3
   },
   "file_extension": ".py",
   "mimetype": "text/x-python",
   "name": "python",
   "nbconvert_exporter": "python",
   "pygments_lexer": "ipython3",
   "version": "3.9.7"
  },
  "orig_nbformat": 4
 },
 "nbformat": 4,
 "nbformat_minor": 2
}
