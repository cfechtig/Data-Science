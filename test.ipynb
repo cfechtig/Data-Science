{
 "cells": [
  {
   "cell_type": "code",
   "execution_count": 1,
   "metadata": {},
   "outputs": [],
   "source": [
    "import numpy as np\n",
    "from sklearn.linear_model import LogisticRegression\n",
    "import matplotlib.pyplot as plt # to plot error during training"
   ]
  },
  {
   "cell_type": "code",
   "execution_count": 325,
   "metadata": {},
   "outputs": [
    {
     "data": {
      "text/plain": [
       "0.9168273035060777"
      ]
     },
     "execution_count": 325,
     "metadata": {},
     "output_type": "execute_result"
    }
   ],
   "source": [
    "def sigmoid(x):\n",
    "    return 1/(1+np.exp(-x))\n",
    "\n",
    "x = np.array([1,2,3])\n",
    "w = np.array([0.1,1,0.1])\n",
    "sigmoid(np.dot(x,w))\n",
    "\n"
   ]
  },
  {
   "cell_type": "code",
<<<<<<< HEAD
   "execution_count": 161,
=======
   "execution_count": 3,
>>>>>>> dbc121d9443d8674c7cd7cec388d0e506cfd3687
   "metadata": {},
   "outputs": [],
   "source": [
    "class NeuralNetwork:\n",
    "    def __init__(self, inputSize=3, outputSize=1, hiddenSize=2):\n",
    "        self.inputSize = inputSize\n",
    "        self.outputSize = outputSize\n",
    "        self.hiddenSize = hiddenSize\n",
    "        self.W1 = np.random.rand(self.inputSize, self.hiddenSize)\n",
    "        self.W2 = np.random.rand(self.hiddenSize, self.outputSize)\n",
    "\n",
    "    def sigmoid(self, x, deriv=False):\n",
    "        if deriv == True:\n",
    "            return x * (1 - x)\n",
    "        return 1 / (1 + np.exp(-x))\n",
    "\n",
    "    def forward(self, X):\n",
    "        self.z = np.matmul(X, self.W1)\n",
    "        self.z2 = self.sigmoid(self.z)\n",
    "        self.z3 = np.matmul(self.z2, self.W2)\n",
    "        o = self.sigmoid(self.z3)\n",
    "        return o\n",
    "\n",
    "    def backward(self, X, y, o):\n",
    "        self.o_error = y - o\n",
    "        self.o_delta = self.o_error * self.sigmoid(o, True)\n",
    "        self.z2_error = np.matmul(self.o_delta, np.matrix.transpose(self.W2))\n",
    "        self.z2_delta = self.z2_error * self.sigmoid(self.z2, True)\n",
    "        self.W1 += np.matmul(np.matrix.transpose(X), self.z2_delta)\n",
    "        self.W2 += np.matmul(np.matrix.transpose(self.z2), self.o_delta)\n",
    "\n",
    "    def train(self, X, y, epochs=10000):\n",
    "        for epoch in range(epochs):\n",
    "            o = self.forward(X)\n",
    "            self.backward(X, y, o)\n",
    "\n",
    "    def predict(self, x_predicted):\n",
    "        return self.forward(x_predicted).item()"
   ]
  },
  {
   "cell_type": "code",
   "execution_count": 354,
   "metadata": {},
   "outputs": [
    {
     "data": {
      "text/plain": [
       "0.7499999999999992"
      ]
     },
     "execution_count": 354,
     "metadata": {},
     "output_type": "execute_result"
    }
   ],
   "source": [
    "# input data\n",
    "inputs = np.array([np.random.rand(3).tolist()] * 100)\n",
    "# output data\n",
    "outputs = np.array([[1]] * 75 + [[0]] * 25)\n",
    "\n",
    "NN = NeuralNetwork()\n",
    "NN.train(inputs, outputs)\n",
    "NN.predict(inputs[0])"
   ]
  },
  {
   "cell_type": "code",
   "execution_count": 365,
   "metadata": {},
   "outputs": [
    {
     "data": {
      "text/plain": [
       "array([[0.75000006, 0.24999994]])"
      ]
     },
     "execution_count": 365,
     "metadata": {},
     "output_type": "execute_result"
    }
   ],
   "source": [
    "# input data\n",
    "inputs = np.array([np.random.rand(3).tolist()] * 100)\n",
    "# output data\n",
    "outputs = np.array([[0]] * 75 + [[1]] * 25)\n",
    "\n",
    "clf = LogisticRegression().fit(inputs, outputs.ravel())\n",
    "clf.predict_proba([np.random.rand(3)])"
   ]
  },
  {
   "cell_type": "code",
<<<<<<< HEAD
   "execution_count": 5,
   "metadata": {},
   "outputs": [],
   "source": [
    "import requests\n",
    "from bs4 import BeautifulSoup\n",
    "import time"
   ]
  },
  {
   "cell_type": "code",
   "execution_count": 2,
   "metadata": {},
   "outputs": [],
   "source": [
    "def getWikiLinks(page):\n",
    "    response = requests.get(\n",
    "        url=\"https://en.wikipedia.org/wiki/\" + page,\n",
    "    )\n",
    "    soup = BeautifulSoup(response.content, 'html.parser')\n",
    "\n",
    "    # Get all the links\n",
    "    allLinks = soup.find(id=\"bodyContent\").find_all(\"a\")\n",
    "    wikiLinks = []\n",
    "\n",
    "    for link in allLinks:\n",
    "        if (link.has_attr(\"href\") and \n",
    "            link[\"href\"].find(\"/wiki/\") != -1 and \n",
    "            not link.has_attr(\"class\")):\n",
    "            \n",
    "            wikiLinks.append(link[\"title\"])\n",
    "\n",
    "    return wikiLinks"
   ]
  },
  {
   "cell_type": "code",
   "execution_count": 6,
=======
   "execution_count": 4,
>>>>>>> dbc121d9443d8674c7cd7cec388d0e506cfd3687
   "metadata": {},
   "outputs": [
    {
     "name": "stdout",
     "output_type": "stream",
     "text": [
      "0 Texas_annexation\n",
      "\n",
      "0.11857008934020996\n",
      "20 Gerard_Manley_Hopkins\n",
      "\n",
      "3.1813228130340576\n",
      "40 Anemia\n",
      "\n",
      "3.469252109527588\n",
      "60 Pedro_II_of_Brazil\n",
      "\n",
      "2.6918060779571533\n",
      "80 Density\n",
      "\n",
      "2.8585779666900635\n",
      "100 Mrs_Dalloway\n",
      "\n",
      "3.49611496925354\n",
      "120 Ossification\n",
      "\n",
      "2.675758123397827\n",
      "Mikhail_Bulgakov\n",
      "\n",
      "140 Daniel_Kahneman\n",
      "\n",
      "2.5574278831481934\n",
      "160 Druze\n",
      "\n",
      "2.109994888305664\n",
      "180 French_horn\n",
      "\n",
      "3.465520143508911\n",
      "200 Mali_Empire\n",
      "\n",
      "2.5991508960723877\n",
      "Indian_National_Congress\n",
      "\n",
      "220 Jim_(given_name)\n",
      "\n",
      "2.514065980911255\n"
     ]
    }
   ],
   "source": [
<<<<<<< HEAD
    "times = []\n",
    "\n",
    "with open('vocab_dev.txt', 'r') as vocab:\n",
    "    limit = -1\n",
    "    i = 0\n",
    "    temp_time = time.time()\n",
    "    for page in vocab:\n",
    "        try:\n",
    "            getWikiLinks(page.strip())\n",
    "            if(i%20 == 0):\n",
    "                ts = time.time() - temp_time\n",
    "                times.append(ts)\n",
    "                temp_time = time.time()\n",
    "                print(i, page.strip(), ts)\n",
    "        except:\n",
    "            print(page)\n",
    "\n",
    "        i += 1\n",
    "        if i >= limit and limit > 0:\n",
    "            break"
=======
    "bias = 0.5; inputs=[[1,0,0],[1,0,1],[1,1,0],[1,1,1]]\n",
    "for x in inputs:\n",
    "    h1 = sigmoid(x[0]*bias + x[1]*-5 + x[2]*-1)\n",
    "    h2 = sigmoid(x[0]*bias + x[1]*-1 + x[2]*-2)\n",
    "    y = sigmoid(h1*-1 + h2*-4 + bias)\n",
    "    print(x[1:],y)"
   ]
  },
  {
   "cell_type": "code",
   "execution_count": 5,
   "metadata": {},
   "outputs": [
    {
     "name": "stdout",
     "output_type": "stream",
     "text": [
      "w0 = 0.10317116694614202\n",
      "w1 = 1.0063423338922841\n",
      "w2 = 0.10951350083842606\n"
     ]
    }
   ],
   "source": [
    "lr = 0.5\n",
    "x = [1,2,3]\n",
    "w = [0.1,1,0.1]\n",
    "y = 1\n",
    "\n",
    "output = sigmoid(x[0]*w[0] + x[1]*w[1] + x[2]*w[2])\n",
    "g0 = -(y-output)*output*(1-output)*x[0]\n",
    "g1 = -(y-output)*output*(1-output)*x[1]\n",
    "g2 = -(y-output)*output*(1-output)*x[2]\n",
    "w0_ = w[0] - lr*g0\n",
    "w1_ = w[1] - lr*g1\n",
    "w2_ = w[2] - lr*g2\n",
    "print(\"w0 =\",w0_)\n",
    "print(\"w1 =\",w1_)\n",
    "print(\"w2 =\",w2_)"
   ]
  },
  {
   "cell_type": "code",
   "execution_count": 11,
   "metadata": {},
   "outputs": [],
   "source": [
    "train_X = np.array([[1,2,4]] * 100)\n",
    "train_y = np.array([[1]] * 75 + [[0]] * 25)\n"
   ]
  },
  {
   "cell_type": "code",
   "execution_count": 15,
   "metadata": {},
   "outputs": [],
   "source": [
    "# create NeuralNetwork class\n",
    "class NeuralNetwork:\n",
    "\n",
    "    # intialize variables in class\n",
    "    def __init__(self, inputs, outputs):\n",
    "        self.inputs  = inputs\n",
    "        self.outputs = outputs\n",
    "        self.weights = np.random.rand(3,1)\n",
    "        self.error_history = []\n",
    "        self.epoch_list = []\n",
    "\n",
    "    #activation function ==> S(x) = 1/1+e^(-x)\n",
    "    def sigmoid(self, x, deriv=False):\n",
    "        if deriv == True:\n",
    "            return x * (1 - x)\n",
    "        return 1 / (1 + np.exp(-x))\n",
    "\n",
    "    # data will flow through the neural network.\n",
    "    def feed_forward(self):\n",
    "        self.hidden = self.sigmoid(np.dot(self.inputs, self.weights))\n",
    "\n",
    "    # going backwards through the network to update weights\n",
    "    def backpropagation(self):\n",
    "        self.error  = self.outputs - self.hidden\n",
    "        delta = self.error * self.sigmoid(self.hidden, deriv=True)\n",
    "        self.weights += np.dot(self.inputs.T, delta)\n",
    "\n",
    "    # train the neural net for 25,000 iterations\n",
    "    def train(self, epochs=25000):\n",
    "        for epoch in range(epochs):\n",
    "            # flow forward and produce an output\n",
    "            self.feed_forward()\n",
    "            # go back though the network to make corrections based on the output\n",
    "            self.backpropagation()    \n",
    "            # keep track of the error history over each epoch\n",
    "            self.error_history.append(np.average(np.abs(self.error)))\n",
    "            self.epoch_list.append(epoch)\n",
    "\n",
    "    # function to predict output on new and unseen input data                               \n",
    "    def predict(self, new_input):\n",
    "        prediction = self.sigmoid(np.dot(new_input, self.weights))\n",
    "        return prediction\n",
    "\n",
    "# create neural network   \n",
    "NN = NeuralNetwork(train_X, train_y)\n",
    "# train neural network\n",
    "NN.train()"
   ]
  },
  {
   "cell_type": "code",
   "execution_count": 18,
   "metadata": {},
   "outputs": [
    {
     "data": {
      "text/plain": [
       "array([[0.99999396]])"
      ]
     },
     "execution_count": 18,
     "metadata": {},
     "output_type": "execute_result"
    }
   ],
   "source": [
    "NN.predict(np.array([[-2,4,-5]]))"
   ]
  },
  {
   "cell_type": "code",
   "execution_count": 9,
   "metadata": {},
   "outputs": [],
   "source": [
    "import matplotlib.pyplot as plt"
   ]
  },
  {
   "cell_type": "code",
   "execution_count": 10,
   "metadata": {},
   "outputs": [
    {
     "data": {
      "image/png": "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",
      "text/plain": [
       "<Figure size 1080x360 with 1 Axes>"
      ]
     },
     "metadata": {
      "needs_background": "light"
     },
     "output_type": "display_data"
    }
   ],
   "source": [
    "plt.figure(figsize=(15,5))\n",
    "plt.plot(NN.epoch_list, NN.error_history)\n",
    "plt.xlabel('Epoch')\n",
    "plt.ylabel('Error')\n",
    "plt.show()"
>>>>>>> dbc121d9443d8674c7cd7cec388d0e506cfd3687
   ]
  },
  {
   "cell_type": "code",
   "execution_count": null,
   "metadata": {},
   "outputs": [],
   "source": []
  }
 ],
 "metadata": {
  "interpreter": {
   "hash": "08ec8d607d3a2c1251fee9198890f662b6c0badb692b43596bb5a6c6e8eaf4bf"
  },
  "kernelspec": {
   "display_name": "Python 3.9.4 64-bit ('base': conda)",
   "language": "python",
   "name": "python3"
  },
  "language_info": {
   "codemirror_mode": {
    "name": "ipython",
    "version": 3
   },
   "file_extension": ".py",
   "mimetype": "text/x-python",
   "name": "python",
   "nbconvert_exporter": "python",
   "pygments_lexer": "ipython3",
   "version": "3.9.7"
  },
  "orig_nbformat": 4
 },
 "nbformat": 4,
 "nbformat_minor": 2
}
