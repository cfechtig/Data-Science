{
 "metadata": {
  "language_info": {
   "codemirror_mode": {
    "name": "ipython",
    "version": 3
   },
   "file_extension": ".py",
   "mimetype": "text/x-python",
   "name": "python",
   "nbconvert_exporter": "python",
   "pygments_lexer": "ipython3",
   "version": "3.8.5"
  },
  "orig_nbformat": 2,
  "kernelspec": {
   "name": "python385jvsc74a57bd0109c97d19a338056cdf4abe9c54b25f1208393da3a14093d2fe719bfd0bdff89",
   "display_name": "Python 3.8.5 64-bit ('base': conda)"
  }
 },
 "nbformat": 4,
 "nbformat_minor": 2,
 "cells": [
  {
   "cell_type": "code",
   "execution_count": 1,
   "metadata": {},
   "outputs": [],
   "source": [
    "import numpy as np\n",
    "import pandas as pd\n",
    "from functools import reduce"
   ]
  },
  {
   "cell_type": "code",
   "execution_count": 2,
   "metadata": {},
   "outputs": [
    {
     "output_type": "execute_result",
     "data": {
      "text/plain": [
       "            State  Case Rate per 100000  Death Rate per 100000\n",
       "0          Alaska                9254.0                   49.0\n",
       "1         Alabama               11147.0                  228.0\n",
       "2        Arkansas               11349.0                  193.0\n",
       "3  American Samoa                   NaN                    NaN\n",
       "4         Arizona               12148.0                  243.0"
      ],
      "text/html": "<div>\n<style scoped>\n    .dataframe tbody tr th:only-of-type {\n        vertical-align: middle;\n    }\n\n    .dataframe tbody tr th {\n        vertical-align: top;\n    }\n\n    .dataframe thead th {\n        text-align: right;\n    }\n</style>\n<table border=\"1\" class=\"dataframe\">\n  <thead>\n    <tr style=\"text-align: right;\">\n      <th></th>\n      <th>State</th>\n      <th>Case Rate per 100000</th>\n      <th>Death Rate per 100000</th>\n    </tr>\n  </thead>\n  <tbody>\n    <tr>\n      <th>0</th>\n      <td>Alaska</td>\n      <td>9254.0</td>\n      <td>49.0</td>\n    </tr>\n    <tr>\n      <th>1</th>\n      <td>Alabama</td>\n      <td>11147.0</td>\n      <td>228.0</td>\n    </tr>\n    <tr>\n      <th>2</th>\n      <td>Arkansas</td>\n      <td>11349.0</td>\n      <td>193.0</td>\n    </tr>\n    <tr>\n      <th>3</th>\n      <td>American Samoa</td>\n      <td>NaN</td>\n      <td>NaN</td>\n    </tr>\n    <tr>\n      <th>4</th>\n      <td>Arizona</td>\n      <td>12148.0</td>\n      <td>243.0</td>\n    </tr>\n  </tbody>\n</table>\n</div>"
     },
     "metadata": {},
     "execution_count": 2
    }
   ],
   "source": [
    "FILE_PATH = 'united_states_covid19_cases_deaths_and_testing_by_state.csv'\n",
    "covid_rates = pd.read_csv(FILE_PATH)\n",
    "covid_rates = covid_rates[['State/Territory', 'Case Rate per 100000', 'Death Rate per 100000']]\n",
    "covid_rates.columns = ['State', 'Case Rate per 100000', 'Death Rate per 100000']\n",
    "covid_rates.head()"
   ]
  },
  {
   "cell_type": "code",
   "execution_count": 3,
   "metadata": {},
   "outputs": [
    {
     "output_type": "execute_result",
     "data": {
      "text/plain": [
       "                  State  Pop/sqmi\n",
       "0  District of Columbia   10588.8\n",
       "1            New Jersey    1210.1\n",
       "2           Puerto Rico    1055.9\n",
       "3          Rhode Island    1017.1\n",
       "4           Territories     991.0"
      ],
      "text/html": "<div>\n<style scoped>\n    .dataframe tbody tr th:only-of-type {\n        vertical-align: middle;\n    }\n\n    .dataframe tbody tr th {\n        vertical-align: top;\n    }\n\n    .dataframe thead th {\n        text-align: right;\n    }\n</style>\n<table border=\"1\" class=\"dataframe\">\n  <thead>\n    <tr style=\"text-align: right;\">\n      <th></th>\n      <th>State</th>\n      <th>Pop/sqmi</th>\n    </tr>\n  </thead>\n  <tbody>\n    <tr>\n      <th>0</th>\n      <td>District of Columbia</td>\n      <td>10588.8</td>\n    </tr>\n    <tr>\n      <th>1</th>\n      <td>New Jersey</td>\n      <td>1210.1</td>\n    </tr>\n    <tr>\n      <th>2</th>\n      <td>Puerto Rico</td>\n      <td>1055.9</td>\n    </tr>\n    <tr>\n      <th>3</th>\n      <td>Rhode Island</td>\n      <td>1017.1</td>\n    </tr>\n    <tr>\n      <th>4</th>\n      <td>Territories</td>\n      <td>991.0</td>\n    </tr>\n  </tbody>\n</table>\n</div>"
     },
     "metadata": {},
     "execution_count": 3
    }
   ],
   "source": [
    "WIKI_URL1 = 'https://simple.wikipedia.org/wiki/List_of_U.S._states_by_population_density'\n",
    "population_densities = pd.read_html(WIKI_URL1)\n",
    "population_densities = population_densities[1]\n",
    "population_densities = population_densities[['State/Territory/Division/Region', 'Population/sqmi']]\n",
    "population_densities.columns = ['State', 'Pop/sqmi']\n",
    "population_densities.head()"
   ]
  },
  {
   "cell_type": "code",
   "execution_count": 4,
   "metadata": {},
   "outputs": [
    {
     "output_type": "execute_result",
     "data": {
      "text/plain": [
       "                  State     GDP\n",
       "0  District of Columbia  200277\n",
       "1              New York   90043\n",
       "2         Massachusetts   86942\n",
       "3           Connecticut   81055\n",
       "4            California   80563"
      ],
      "text/html": "<div>\n<style scoped>\n    .dataframe tbody tr th:only-of-type {\n        vertical-align: middle;\n    }\n\n    .dataframe tbody tr th {\n        vertical-align: top;\n    }\n\n    .dataframe thead th {\n        text-align: right;\n    }\n</style>\n<table border=\"1\" class=\"dataframe\">\n  <thead>\n    <tr style=\"text-align: right;\">\n      <th></th>\n      <th>State</th>\n      <th>GDP</th>\n    </tr>\n  </thead>\n  <tbody>\n    <tr>\n      <th>0</th>\n      <td>District of Columbia</td>\n      <td>200277</td>\n    </tr>\n    <tr>\n      <th>1</th>\n      <td>New York</td>\n      <td>90043</td>\n    </tr>\n    <tr>\n      <th>2</th>\n      <td>Massachusetts</td>\n      <td>86942</td>\n    </tr>\n    <tr>\n      <th>3</th>\n      <td>Connecticut</td>\n      <td>81055</td>\n    </tr>\n    <tr>\n      <th>4</th>\n      <td>California</td>\n      <td>80563</td>\n    </tr>\n  </tbody>\n</table>\n</div>"
     },
     "metadata": {},
     "execution_count": 4
    }
   ],
   "source": [
    "WIKI_URL2 = 'https://en.wikipedia.org/wiki/List_of_U.S._states_and_territories_by_GDP_per_capita'\n",
    "GDPs = pd.read_html(WIKI_URL2)\n",
    "GDPs = GDPs[2]\n",
    "GDPs = GDPs[['State or territory', '2019']]\n",
    "GDPs.columns = ['State', 'GDP']\n",
    "GDPs.head()"
   ]
  },
  {
   "cell_type": "code",
   "execution_count": 5,
   "metadata": {},
   "outputs": [
    {
     "output_type": "execute_result",
     "data": {
      "text/plain": [
       "        State 2020 Election\n",
       "0     Alabama    Republican\n",
       "1      Alaska    Republican\n",
       "2     Arizona    Democratic\n",
       "3    Arkansas    Republican\n",
       "4  California    Democratic"
      ],
      "text/html": "<div>\n<style scoped>\n    .dataframe tbody tr th:only-of-type {\n        vertical-align: middle;\n    }\n\n    .dataframe tbody tr th {\n        vertical-align: top;\n    }\n\n    .dataframe thead th {\n        text-align: right;\n    }\n</style>\n<table border=\"1\" class=\"dataframe\">\n  <thead>\n    <tr style=\"text-align: right;\">\n      <th></th>\n      <th>State</th>\n      <th>2020 Election</th>\n    </tr>\n  </thead>\n  <tbody>\n    <tr>\n      <th>0</th>\n      <td>Alabama</td>\n      <td>Republican</td>\n    </tr>\n    <tr>\n      <th>1</th>\n      <td>Alaska</td>\n      <td>Republican</td>\n    </tr>\n    <tr>\n      <th>2</th>\n      <td>Arizona</td>\n      <td>Democratic</td>\n    </tr>\n    <tr>\n      <th>3</th>\n      <td>Arkansas</td>\n      <td>Republican</td>\n    </tr>\n    <tr>\n      <th>4</th>\n      <td>California</td>\n      <td>Democratic</td>\n    </tr>\n  </tbody>\n</table>\n</div>"
     },
     "metadata": {},
     "execution_count": 5
    }
   ],
   "source": [
    "WIKI_URL3 = 'https://en.wikipedia.org/wiki/Political_party_strength_in_U.S._states'\n",
    "politics = pd.read_html(WIKI_URL3)\n",
    "politics = politics[4]\n",
    "politics = politics[['State', '2020 presidentialelection']]\n",
    "politics.columns = ['State', '2020 Election']\n",
    "politics.head()"
   ]
  },
  {
   "cell_type": "code",
   "execution_count": 6,
   "metadata": {},
   "outputs": [],
   "source": [
    "data_frames = [politics, population_densities, GDPs, covid_rates]"
   ]
  },
  {
   "cell_type": "code",
   "execution_count": 9,
   "metadata": {},
   "outputs": [
    {
     "output_type": "execute_result",
     "data": {
      "text/plain": [
       "             State                          2020 Election  Pop/sqmi    GDP  \\\n",
       "0          Alabama                             Republican      95.4  47735   \n",
       "1           Alaska                             Republican       1.3  76220   \n",
       "2          Arizona                             Democratic      58.3  51179   \n",
       "3         Arkansas                             Republican      56.9  44808   \n",
       "4       California                             Democratic     246.1  80563   \n",
       "5         Colorado                             Democratic      50.8  68828   \n",
       "6      Connecticut                             Democratic     742.6  81055   \n",
       "7         Delaware                             Democratic     475.1  78468   \n",
       "8          Florida                             Republican     364.6  51745   \n",
       "9          Georgia                             Democratic     173.7  58896   \n",
       "10          Hawaii                             Democratic     218.6  69593   \n",
       "11           Idaho                             Republican      19.5  46043   \n",
       "12        Illinois                             Democratic     232.0  71727   \n",
       "13         Indiana                             Republican     183.4  56702   \n",
       "14            Iowa                             Republican      55.3  62493   \n",
       "15          Kansas                             Republican      35.4  60310   \n",
       "16        Kentucky                             Republican     111.3  48697   \n",
       "17       Louisiana                             Republican     107.1  57445   \n",
       "18           Maine  Democratic/ Republican (2nd District)      43.1  50915   \n",
       "19        Maryland                             Democratic     610.8  71838   \n",
       "20   Massachusetts                             Democratic     858.0  86942   \n",
       "21        Michigan                             Democratic     175.0  54928   \n",
       "22       Minnesota                             Democratic      68.1  68427   \n",
       "23     Mississippi                             Republican      63.7  40464   \n",
       "24        Missouri                             Republican      87.9  54879   \n",
       "25         Montana                             Republican       7.0  49540   \n",
       "26        Nebraska  Republican/ Democratic (2nd District)      24.3  66737   \n",
       "27          Nevada                             Democratic      25.4  58570   \n",
       "28   New Hampshire                             Democratic     147.8  66069   \n",
       "29      New Jersey                             Democratic    1210.1  73451   \n",
       "30      New Mexico                             Democratic      17.2  50022   \n",
       "31        New York                             Democratic     417.0  90043   \n",
       "32  North Carolina                             Republican     202.6  56862   \n",
       "33    North Dakota                             Republican      10.5  75321   \n",
       "34            Ohio                             Republican     283.2  60464   \n",
       "35        Oklahoma                             Republican      56.1  52409   \n",
       "36          Oregon                             Democratic      40.9  60558   \n",
       "37    Pennsylvania                             Democratic     285.5  64412   \n",
       "38    Rhode Island                             Democratic    1017.1  60830   \n",
       "39  South Carolina                             Republican     158.8  48547   \n",
       "40    South Dakota                             Republican      11.1  61104   \n",
       "41       Tennessee                             Republican     157.5  56451   \n",
       "42           Texas                             Republican     101.2  66149   \n",
       "43            Utah                             Republican      35.3  59892   \n",
       "44         Vermont                             Democratic      68.0  56525   \n",
       "45        Virginia                             Democratic     209.2  65824   \n",
       "46      Washington                             Democratic     104.9  80170   \n",
       "47   West Virginia                             Republican      77.1  43806   \n",
       "48       Wisconsin                             Democratic     106.0  60425   \n",
       "49         Wyoming                             Republican       6.0  68757   \n",
       "\n",
       "    Case Rate per 100000  Death Rate per 100000  \n",
       "0                11147.0                  228.0  \n",
       "1                 9254.0                   49.0  \n",
       "2                12148.0                  243.0  \n",
       "3                11349.0                  193.0  \n",
       "4                 9341.0                  158.0  \n",
       "5                 9502.0                  115.0  \n",
       "6                 9763.0                  231.0  \n",
       "7                11211.0                  172.0  \n",
       "8                10687.0                  173.0  \n",
       "9                10609.0                  197.0  \n",
       "10                2500.0                   35.0  \n",
       "11               10802.0                  117.0  \n",
       "12               10934.0                  200.0  \n",
       "13               11097.0                  203.0  \n",
       "14               11793.0                  192.0  \n",
       "15               10816.0                  175.0  \n",
       "16               10308.0                  158.0  \n",
       "17               10191.0                  228.0  \n",
       "18                5083.0                   62.0  \n",
       "19                7621.0                  159.0  \n",
       "20               10275.0                  259.0  \n",
       "21                9967.0                  206.0  \n",
       "22               10690.0                  134.0  \n",
       "23               10704.0                  246.0  \n",
       "24                9826.0                  149.0  \n",
       "25               10515.0                  152.0  \n",
       "26               11564.0                  116.0  \n",
       "27               10584.0                  182.0  \n",
       "28                7277.0                   99.0  \n",
       "29               11462.0                  295.0  \n",
       "30                9714.0                  204.0  \n",
       "31               10434.0                  179.0  \n",
       "32                9592.0                  125.0  \n",
       "33               14468.0                  198.0  \n",
       "34                9452.0                  170.0  \n",
       "35               11473.0                  185.0  \n",
       "36                4822.0                   63.0  \n",
       "37                9420.0                  213.0  \n",
       "38               14355.0                  256.0  \n",
       "39               11550.0                  189.0  \n",
       "40               14048.0                  228.0  \n",
       "41               12654.0                  182.0  \n",
       "42               10187.0                  174.0  \n",
       "43               12721.0                   72.0  \n",
       "44                3891.0                   41.0  \n",
       "45                7932.0                  131.0  \n",
       "46                5790.0                   76.0  \n",
       "47                9070.0                  157.0  \n",
       "48               11601.0                  136.0  \n",
       "49               10501.0                  124.0  "
      ],
      "text/html": "<div>\n<style scoped>\n    .dataframe tbody tr th:only-of-type {\n        vertical-align: middle;\n    }\n\n    .dataframe tbody tr th {\n        vertical-align: top;\n    }\n\n    .dataframe thead th {\n        text-align: right;\n    }\n</style>\n<table border=\"1\" class=\"dataframe\">\n  <thead>\n    <tr style=\"text-align: right;\">\n      <th></th>\n      <th>State</th>\n      <th>2020 Election</th>\n      <th>Pop/sqmi</th>\n      <th>GDP</th>\n      <th>Case Rate per 100000</th>\n      <th>Death Rate per 100000</th>\n    </tr>\n  </thead>\n  <tbody>\n    <tr>\n      <th>0</th>\n      <td>Alabama</td>\n      <td>Republican</td>\n      <td>95.4</td>\n      <td>47735</td>\n      <td>11147.0</td>\n      <td>228.0</td>\n    </tr>\n    <tr>\n      <th>1</th>\n      <td>Alaska</td>\n      <td>Republican</td>\n      <td>1.3</td>\n      <td>76220</td>\n      <td>9254.0</td>\n      <td>49.0</td>\n    </tr>\n    <tr>\n      <th>2</th>\n      <td>Arizona</td>\n      <td>Democratic</td>\n      <td>58.3</td>\n      <td>51179</td>\n      <td>12148.0</td>\n      <td>243.0</td>\n    </tr>\n    <tr>\n      <th>3</th>\n      <td>Arkansas</td>\n      <td>Republican</td>\n      <td>56.9</td>\n      <td>44808</td>\n      <td>11349.0</td>\n      <td>193.0</td>\n    </tr>\n    <tr>\n      <th>4</th>\n      <td>California</td>\n      <td>Democratic</td>\n      <td>246.1</td>\n      <td>80563</td>\n      <td>9341.0</td>\n      <td>158.0</td>\n    </tr>\n    <tr>\n      <th>5</th>\n      <td>Colorado</td>\n      <td>Democratic</td>\n      <td>50.8</td>\n      <td>68828</td>\n      <td>9502.0</td>\n      <td>115.0</td>\n    </tr>\n    <tr>\n      <th>6</th>\n      <td>Connecticut</td>\n      <td>Democratic</td>\n      <td>742.6</td>\n      <td>81055</td>\n      <td>9763.0</td>\n      <td>231.0</td>\n    </tr>\n    <tr>\n      <th>7</th>\n      <td>Delaware</td>\n      <td>Democratic</td>\n      <td>475.1</td>\n      <td>78468</td>\n      <td>11211.0</td>\n      <td>172.0</td>\n    </tr>\n    <tr>\n      <th>8</th>\n      <td>Florida</td>\n      <td>Republican</td>\n      <td>364.6</td>\n      <td>51745</td>\n      <td>10687.0</td>\n      <td>173.0</td>\n    </tr>\n    <tr>\n      <th>9</th>\n      <td>Georgia</td>\n      <td>Democratic</td>\n      <td>173.7</td>\n      <td>58896</td>\n      <td>10609.0</td>\n      <td>197.0</td>\n    </tr>\n    <tr>\n      <th>10</th>\n      <td>Hawaii</td>\n      <td>Democratic</td>\n      <td>218.6</td>\n      <td>69593</td>\n      <td>2500.0</td>\n      <td>35.0</td>\n    </tr>\n    <tr>\n      <th>11</th>\n      <td>Idaho</td>\n      <td>Republican</td>\n      <td>19.5</td>\n      <td>46043</td>\n      <td>10802.0</td>\n      <td>117.0</td>\n    </tr>\n    <tr>\n      <th>12</th>\n      <td>Illinois</td>\n      <td>Democratic</td>\n      <td>232.0</td>\n      <td>71727</td>\n      <td>10934.0</td>\n      <td>200.0</td>\n    </tr>\n    <tr>\n      <th>13</th>\n      <td>Indiana</td>\n      <td>Republican</td>\n      <td>183.4</td>\n      <td>56702</td>\n      <td>11097.0</td>\n      <td>203.0</td>\n    </tr>\n    <tr>\n      <th>14</th>\n      <td>Iowa</td>\n      <td>Republican</td>\n      <td>55.3</td>\n      <td>62493</td>\n      <td>11793.0</td>\n      <td>192.0</td>\n    </tr>\n    <tr>\n      <th>15</th>\n      <td>Kansas</td>\n      <td>Republican</td>\n      <td>35.4</td>\n      <td>60310</td>\n      <td>10816.0</td>\n      <td>175.0</td>\n    </tr>\n    <tr>\n      <th>16</th>\n      <td>Kentucky</td>\n      <td>Republican</td>\n      <td>111.3</td>\n      <td>48697</td>\n      <td>10308.0</td>\n      <td>158.0</td>\n    </tr>\n    <tr>\n      <th>17</th>\n      <td>Louisiana</td>\n      <td>Republican</td>\n      <td>107.1</td>\n      <td>57445</td>\n      <td>10191.0</td>\n      <td>228.0</td>\n    </tr>\n    <tr>\n      <th>18</th>\n      <td>Maine</td>\n      <td>Democratic/ Republican (2nd District)</td>\n      <td>43.1</td>\n      <td>50915</td>\n      <td>5083.0</td>\n      <td>62.0</td>\n    </tr>\n    <tr>\n      <th>19</th>\n      <td>Maryland</td>\n      <td>Democratic</td>\n      <td>610.8</td>\n      <td>71838</td>\n      <td>7621.0</td>\n      <td>159.0</td>\n    </tr>\n    <tr>\n      <th>20</th>\n      <td>Massachusetts</td>\n      <td>Democratic</td>\n      <td>858.0</td>\n      <td>86942</td>\n      <td>10275.0</td>\n      <td>259.0</td>\n    </tr>\n    <tr>\n      <th>21</th>\n      <td>Michigan</td>\n      <td>Democratic</td>\n      <td>175.0</td>\n      <td>54928</td>\n      <td>9967.0</td>\n      <td>206.0</td>\n    </tr>\n    <tr>\n      <th>22</th>\n      <td>Minnesota</td>\n      <td>Democratic</td>\n      <td>68.1</td>\n      <td>68427</td>\n      <td>10690.0</td>\n      <td>134.0</td>\n    </tr>\n    <tr>\n      <th>23</th>\n      <td>Mississippi</td>\n      <td>Republican</td>\n      <td>63.7</td>\n      <td>40464</td>\n      <td>10704.0</td>\n      <td>246.0</td>\n    </tr>\n    <tr>\n      <th>24</th>\n      <td>Missouri</td>\n      <td>Republican</td>\n      <td>87.9</td>\n      <td>54879</td>\n      <td>9826.0</td>\n      <td>149.0</td>\n    </tr>\n    <tr>\n      <th>25</th>\n      <td>Montana</td>\n      <td>Republican</td>\n      <td>7.0</td>\n      <td>49540</td>\n      <td>10515.0</td>\n      <td>152.0</td>\n    </tr>\n    <tr>\n      <th>26</th>\n      <td>Nebraska</td>\n      <td>Republican/ Democratic (2nd District)</td>\n      <td>24.3</td>\n      <td>66737</td>\n      <td>11564.0</td>\n      <td>116.0</td>\n    </tr>\n    <tr>\n      <th>27</th>\n      <td>Nevada</td>\n      <td>Democratic</td>\n      <td>25.4</td>\n      <td>58570</td>\n      <td>10584.0</td>\n      <td>182.0</td>\n    </tr>\n    <tr>\n      <th>28</th>\n      <td>New Hampshire</td>\n      <td>Democratic</td>\n      <td>147.8</td>\n      <td>66069</td>\n      <td>7277.0</td>\n      <td>99.0</td>\n    </tr>\n    <tr>\n      <th>29</th>\n      <td>New Jersey</td>\n      <td>Democratic</td>\n      <td>1210.1</td>\n      <td>73451</td>\n      <td>11462.0</td>\n      <td>295.0</td>\n    </tr>\n    <tr>\n      <th>30</th>\n      <td>New Mexico</td>\n      <td>Democratic</td>\n      <td>17.2</td>\n      <td>50022</td>\n      <td>9714.0</td>\n      <td>204.0</td>\n    </tr>\n    <tr>\n      <th>31</th>\n      <td>New York</td>\n      <td>Democratic</td>\n      <td>417.0</td>\n      <td>90043</td>\n      <td>10434.0</td>\n      <td>179.0</td>\n    </tr>\n    <tr>\n      <th>32</th>\n      <td>North Carolina</td>\n      <td>Republican</td>\n      <td>202.6</td>\n      <td>56862</td>\n      <td>9592.0</td>\n      <td>125.0</td>\n    </tr>\n    <tr>\n      <th>33</th>\n      <td>North Dakota</td>\n      <td>Republican</td>\n      <td>10.5</td>\n      <td>75321</td>\n      <td>14468.0</td>\n      <td>198.0</td>\n    </tr>\n    <tr>\n      <th>34</th>\n      <td>Ohio</td>\n      <td>Republican</td>\n      <td>283.2</td>\n      <td>60464</td>\n      <td>9452.0</td>\n      <td>170.0</td>\n    </tr>\n    <tr>\n      <th>35</th>\n      <td>Oklahoma</td>\n      <td>Republican</td>\n      <td>56.1</td>\n      <td>52409</td>\n      <td>11473.0</td>\n      <td>185.0</td>\n    </tr>\n    <tr>\n      <th>36</th>\n      <td>Oregon</td>\n      <td>Democratic</td>\n      <td>40.9</td>\n      <td>60558</td>\n      <td>4822.0</td>\n      <td>63.0</td>\n    </tr>\n    <tr>\n      <th>37</th>\n      <td>Pennsylvania</td>\n      <td>Democratic</td>\n      <td>285.5</td>\n      <td>64412</td>\n      <td>9420.0</td>\n      <td>213.0</td>\n    </tr>\n    <tr>\n      <th>38</th>\n      <td>Rhode Island</td>\n      <td>Democratic</td>\n      <td>1017.1</td>\n      <td>60830</td>\n      <td>14355.0</td>\n      <td>256.0</td>\n    </tr>\n    <tr>\n      <th>39</th>\n      <td>South Carolina</td>\n      <td>Republican</td>\n      <td>158.8</td>\n      <td>48547</td>\n      <td>11550.0</td>\n      <td>189.0</td>\n    </tr>\n    <tr>\n      <th>40</th>\n      <td>South Dakota</td>\n      <td>Republican</td>\n      <td>11.1</td>\n      <td>61104</td>\n      <td>14048.0</td>\n      <td>228.0</td>\n    </tr>\n    <tr>\n      <th>41</th>\n      <td>Tennessee</td>\n      <td>Republican</td>\n      <td>157.5</td>\n      <td>56451</td>\n      <td>12654.0</td>\n      <td>182.0</td>\n    </tr>\n    <tr>\n      <th>42</th>\n      <td>Texas</td>\n      <td>Republican</td>\n      <td>101.2</td>\n      <td>66149</td>\n      <td>10187.0</td>\n      <td>174.0</td>\n    </tr>\n    <tr>\n      <th>43</th>\n      <td>Utah</td>\n      <td>Republican</td>\n      <td>35.3</td>\n      <td>59892</td>\n      <td>12721.0</td>\n      <td>72.0</td>\n    </tr>\n    <tr>\n      <th>44</th>\n      <td>Vermont</td>\n      <td>Democratic</td>\n      <td>68.0</td>\n      <td>56525</td>\n      <td>3891.0</td>\n      <td>41.0</td>\n    </tr>\n    <tr>\n      <th>45</th>\n      <td>Virginia</td>\n      <td>Democratic</td>\n      <td>209.2</td>\n      <td>65824</td>\n      <td>7932.0</td>\n      <td>131.0</td>\n    </tr>\n    <tr>\n      <th>46</th>\n      <td>Washington</td>\n      <td>Democratic</td>\n      <td>104.9</td>\n      <td>80170</td>\n      <td>5790.0</td>\n      <td>76.0</td>\n    </tr>\n    <tr>\n      <th>47</th>\n      <td>West Virginia</td>\n      <td>Republican</td>\n      <td>77.1</td>\n      <td>43806</td>\n      <td>9070.0</td>\n      <td>157.0</td>\n    </tr>\n    <tr>\n      <th>48</th>\n      <td>Wisconsin</td>\n      <td>Democratic</td>\n      <td>106.0</td>\n      <td>60425</td>\n      <td>11601.0</td>\n      <td>136.0</td>\n    </tr>\n    <tr>\n      <th>49</th>\n      <td>Wyoming</td>\n      <td>Republican</td>\n      <td>6.0</td>\n      <td>68757</td>\n      <td>10501.0</td>\n      <td>124.0</td>\n    </tr>\n  </tbody>\n</table>\n</div>"
     },
     "metadata": {},
     "execution_count": 9
    }
   ],
   "source": [
    "df = reduce(lambda  left,right: pd.merge(left, right, on=['State'], how='outer'), data_frames)\n",
    "df = df.dropna()\n",
    "df"
   ]
  },
  {
   "cell_type": "code",
   "execution_count": null,
   "metadata": {},
   "outputs": [],
   "source": []
  }
 ]
}